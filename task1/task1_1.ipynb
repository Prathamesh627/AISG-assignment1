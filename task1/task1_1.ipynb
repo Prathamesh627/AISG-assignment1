{
 "cells": [
  {
   "cell_type": "markdown",
   "metadata": {},
   "source": [
    "**Exploratory Data Analysis**\n"
   ]
  },
  {
   "cell_type": "code",
   "execution_count": 1,
   "metadata": {},
   "outputs": [
    {
     "name": "stdout",
     "output_type": "stream",
     "text": [
      "Number of object labels in E:\\AISG Assignment 1\\extracted_data\\labels\\labels_native: 2542\n",
      "Number of object labels in E:\\AISG Assignment 1\\extracted_data\\labels\\labels_hd: 2552\n"
     ]
    }
   ],
   "source": [
    "\n",
    "import os\n",
    "\n",
    "\n",
    "def count_label_files(labels_dir):\n",
    "    return len([f for f in os.listdir(labels_dir) if f.endswith(\".txt\")])\n",
    "\n",
    "# Specify the directories containing the labels\n",
    "labels_native_dir = \"E:\\AISG Assignment 1\\extracted_data\\labels\\labels_native\"\n",
    "labels_hd_dir = \"E:\\AISG Assignment 1\\extracted_data\\labels\\labels_hd\"\n",
    "\n",
    "# Count the object labels for each image type\n",
    "try:\n",
    "    native_count = count_label_files(labels_native_dir)\n",
    "    print(f\"Number of object labels in {labels_native_dir}: {native_count}\")\n",
    "except FileNotFoundError:\n",
    "    print(f\"Error: Directory {labels_native_dir} not found.\")\n",
    "\n",
    "try:\n",
    "    hd_count = count_label_files(labels_hd_dir)\n",
    "    print(f\"Number of object labels in {labels_hd_dir}: {hd_count}\")\n",
    "except FileNotFoundError:\n",
    "    print(f\"Error: Directory {labels_hd_dir} not found.\")\n"
   ]
  },
  {
   "cell_type": "markdown",
   "metadata": {},
   "source": [
    "**Q   1.a**\n",
    "\n",
    "How many instances of solar panels are present in the dataset?\n"
   ]
  },
  {
   "cell_type": "code",
   "execution_count": 4,
   "metadata": {},
   "outputs": [
    {
     "name": "stdout",
     "output_type": "stream",
     "text": [
      "Number of object instances in labels_native_directory is : 29625\n",
      "Number of object instances  in labels_hd_dir: 29880\n"
     ]
    }
   ],
   "source": [
    "import os\n",
    "\n",
    "def count_object_labels(labels_dir):\n",
    "    \"\"\"\n",
    "    Counts the total number of object labels in a directory.\n",
    "\n",
    "    Args:\n",
    "        labels_dir (str): Path to the directory containing the label files.\n",
    "\n",
    "    Returns:\n",
    "        int: The total number of object labels.\n",
    "    \"\"\"\n",
    "    total_count = 0\n",
    "    for filename in os.listdir(labels_dir):\n",
    "        if filename.endswith(\".txt\"):\n",
    "            filepath = os.path.join(labels_dir, filename)\n",
    "            with open(filepath, \"r\") as f:\n",
    "                for line in f:\n",
    "                    total_count += 1  # Each line represents one object label\n",
    "    return total_count\n",
    "\n",
    "# Specify the directories containing the labels\n",
    "labels_native_dir =  \"E:\\AISG Assignment 1\\extracted_data\\labels\\labels_native\"\n",
    "labels_hd_dir =  \"E:\\AISG Assignment 1\\extracted_data\\labels\\labels_hd\"\n",
    "\n",
    "# Count the object labels for each image type\n",
    "try:\n",
    "    native_count = count_object_labels(labels_native_dir)\n",
    "    print(f\"Number of object instances in labels_native_directory is : {native_count}\")\n",
    "except FileNotFoundError:\n",
    "    print(f\"Error: Directory {labels_native_dir} not found.\")\n",
    "\n",
    "try:\n",
    "    hd_count = count_object_labels(labels_hd_dir)\n",
    "    print(f\"Number of object instances  in labels_hd_dir: {hd_count}\")\n",
    "except FileNotFoundError:\n",
    "    print(f\"Error: Directory {labels_hd_dir} not found.\")\n"
   ]
  },
  {
   "cell_type": "markdown",
   "metadata": {},
   "source": [
    "**Q  1.b**\n",
    "Compute and show the value counts of labels per image. E.g., X images have 0 labels, Y images have 1 label, … and so on."
   ]
  },
  {
   "cell_type": "markdown",
   "metadata": {},
   "source": [
    "since i am not sure about what labels are here referring to does they mean  so i have doen it in two ways : \n",
    "\n",
    "**1. How many instances belong to each class in this labels native directory** \n",
    "\n",
    "**2. Label distribution of images like X images have 0 labels, Y images have 1 label, … and so on.**"
   ]
  },
  {
   "cell_type": "code",
   "execution_count": 6,
   "metadata": {},
   "outputs": [
    {
     "name": "stdout",
     "output_type": "stream",
     "text": [
      "Category Counts of labels  in 31 cm native file is  :\n",
      "Category 0: 29267 instances\n",
      "Category 1: 130 instances\n",
      "Category 2: 228 instances\n"
     ]
    }
   ],
   "source": [
    "import os\n",
    "from collections import defaultdict\n",
    "\n",
    "# Path to the labels_native folder\n",
    "label_dir = r\"E:\\AISG Assignment 1\\extracted_data\\labels\\labels_native\"\n",
    "\n",
    "# Dictionary to store category counts\n",
    "category_counts = defaultdict(int)\n",
    "\n",
    "# Read all label files and count category occurrences\n",
    "for filename in os.listdir(label_dir):\n",
    "    if filename.endswith(\".txt\"):  # Process only text files\n",
    "        file_path = os.path.join(label_dir, filename)\n",
    "        with open(file_path, \"r\") as f:\n",
    "            for line in f:\n",
    "                parts = line.strip().split()\n",
    "                if len(parts) == 5:\n",
    "                    category = int(parts[0])  # Extract category (assuming it's an integer)\n",
    "                    category_counts[category] += 1\n",
    "\n",
    "# Print results\n",
    "print(\"Category Counts of labels  in 31 cm native file is  :\")\n",
    "for category, count in sorted(category_counts.items()):\n",
    "    print(f\"Category {category}: {count} instances\")\n"
   ]
  },
  {
   "cell_type": "code",
   "execution_count": 8,
   "metadata": {},
   "outputs": [
    {
     "name": "stdout",
     "output_type": "stream",
     "text": [
      "Total solar panel instances in labels native 31 cm : 29625\n",
      "\n",
      "Label distribution per image:\n",
      "81 images have 1 labels\n",
      "167 images have 2 labels\n",
      "221 images have 3 labels\n",
      "218 images have 4 labels\n",
      "217 images have 5 labels\n",
      "189 images have 6 labels\n",
      "170 images have 7 labels\n",
      "184 images have 8 labels\n",
      "169 images have 9 labels\n",
      "121 images have 10 labels\n",
      "97 images have 11 labels\n",
      "84 images have 12 labels\n",
      "69 images have 13 labels\n",
      "49 images have 14 labels\n",
      "46 images have 15 labels\n",
      "41 images have 16 labels\n",
      "36 images have 17 labels\n",
      "25 images have 18 labels\n",
      "29 images have 19 labels\n",
      "14 images have 20 labels\n",
      "4 images have 21 labels\n",
      "1 images have 22 labels\n",
      "4 images have 23 labels\n",
      "2 images have 24 labels\n",
      "4 images have 25 labels\n",
      "3 images have 26 labels\n",
      "5 images have 27 labels\n",
      "5 images have 28 labels\n",
      "15 images have 29 labels\n",
      "20 images have 30 labels\n",
      "8 images have 31 labels\n",
      "7 images have 32 labels\n",
      "13 images have 33 labels\n",
      "19 images have 34 labels\n",
      "10 images have 35 labels\n",
      "6 images have 36 labels\n",
      "17 images have 37 labels\n",
      "13 images have 38 labels\n",
      "6 images have 39 labels\n",
      "9 images have 40 labels\n",
      "10 images have 41 labels\n",
      "12 images have 42 labels\n",
      "11 images have 43 labels\n",
      "4 images have 44 labels\n",
      "2 images have 45 labels\n",
      "5 images have 46 labels\n",
      "9 images have 47 labels\n",
      "3 images have 48 labels\n",
      "5 images have 49 labels\n",
      "6 images have 50 labels\n",
      "9 images have 51 labels\n",
      "16 images have 52 labels\n",
      "4 images have 53 labels\n",
      "6 images have 54 labels\n",
      "1 images have 55 labels\n",
      "1 images have 56 labels\n",
      "3 images have 58 labels\n",
      "2 images have 59 labels\n",
      "2 images have 60 labels\n",
      "1 images have 61 labels\n",
      "6 images have 62 labels\n",
      "3 images have 63 labels\n",
      "1 images have 64 labels\n",
      "3 images have 65 labels\n",
      "4 images have 66 labels\n",
      "1 images have 67 labels\n",
      "1 images have 71 labels\n",
      "1 images have 72 labels\n",
      "1 images have 73 labels\n",
      "5 images have 74 labels\n",
      "1 images have 75 labels\n",
      "2 images have 76 labels\n",
      "2 images have 77 labels\n",
      "1 images have 78 labels\n"
     ]
    }
   ],
   "source": [
    "import os\n",
    "from collections import defaultdict\n",
    "\n",
    "# Define paths to label directories (update these paths based on actual data location)\n",
    "label_dirs = [\n",
    "   'E:\\AISG Assignment 1\\extracted_data\\labels\\labels_native',  # Replace with actual directory paths\n",
    "    \n",
    "]\n",
    "\n",
    "total_instances = 0\n",
    "label_counts = defaultdict(int)\n",
    "\n",
    "# Iterate over each label directory\n",
    "for label_dir in label_dirs:\n",
    "    # List all .txt label files\n",
    "    for label_file in os.listdir(label_dir):\n",
    "        if label_file.endswith('.txt'):\n",
    "            file_path = os.path.join(label_dir, label_file)\n",
    "            with open(file_path, 'r') as f:\n",
    "                lines = f.readlines()\n",
    "                num_objects = len(lines)\n",
    "                total_instances += num_objects\n",
    "                label_counts[num_objects] += 1\n",
    "\n",
    "# Print total instances\n",
    "print(f\"Total solar panel instances in labels native 31 cm : {total_instances}\")\n",
    "\n",
    "# Print label distribution per image\n",
    "print(\"\\nLabel distribution per image:\")\n",
    "for count in sorted(label_counts.keys()):\n",
    "    print(f\"{label_counts[count]} images have {count} labels\")"
   ]
  }
 ],
 "metadata": {
  "kernelspec": {
   "display_name": "base",
   "language": "python",
   "name": "python3"
  },
  "language_info": {
   "codemirror_mode": {
    "name": "ipython",
    "version": 3
   },
   "file_extension": ".py",
   "mimetype": "text/x-python",
   "name": "python",
   "nbconvert_exporter": "python",
   "pygments_lexer": "ipython3",
   "version": "3.11.7"
  }
 },
 "nbformat": 4,
 "nbformat_minor": 2
}
