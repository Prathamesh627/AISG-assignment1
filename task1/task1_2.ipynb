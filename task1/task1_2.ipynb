{
 "cells": [
  {
   "cell_type": "markdown",
   "metadata": {},
   "source": [
    "Calculate the statistics of the area of solar panels in meters \n",
    "\n",
    "**2.a** What method was used to compute the area (in meters) for a single instance?\n"
   ]
  },
  {
   "cell_type": "markdown",
   "metadata": {},
   "source": [
    "# **Procedure for Calculating Solar Panel Area from Labels**\n",
    "\n",
    "## **1. Understanding the Label Format**\n",
    "Each label file contains multiple bounding boxes, where each line follows this format:\n"
   ]
  },
  {
   "cell_type": "markdown",
   "metadata": {},
   "source": [
    "- **category**: The class label of the object.\n",
    "- **x_center, y_center**: The normalized center coordinates of the bounding box (values between 0 and 1).\n",
    "- **width, height**: The normalized width and height of the bounding box (values between 0 and 1).\n",
    "\n",
    "## **2. Given Parameters**\n",
    "For Tile 1, we have the following geotransform parameters:\n",
    "- **Pixel Size**:\n",
    "  -$$ \\ x_{\\text{pixel size}} = 0.31 \\ meters/pixel$$\n",
    "  - $$\\ y_{\\text{pixel size}} = -0.31 \\ meters/pixel$$\n",
    "- **Chip Size**:\n",
    "  - $$\\ \\text{chip\\_size} = 416 \\ pixels$$\n",
    "\n",
    "## **3. Formula for Calculating Area**\n",
    "To compute the area of a bounding box:\n",
    "\n",
    "1. Convert **normalized width and height** to pixels:\n",
    "\n",
    "   $$\n",
    "   \\text{width}_{px} = \\text{width}_{norm} \\times \\text{chip\\_size}\n",
    "   $$\n",
    "\n",
    "   $$\n",
    "   \\text{height}_{px} = \\text{height}_{norm} \\times \\text{chip\\_size}\n",
    "   $$\n",
    "\n",
    "2. Convert pixels to meters:\n",
    "\n",
    "   $$\n",
    "   \\text{width}_{m} = \\text{width}_{px} \\times x_{\\text{pixel size}}\n",
    "   $$\n",
    "\n",
    "   $$\n",
    "   \\text{height}_{m} = \\text{height}_{px} \\times |y_{\\text{pixel size}}|\n",
    "   $$\n",
    "\n",
    "3. Compute the **area in square meters**:\n",
    "\n",
    "   $$\n",
    "   \\text{area} = \\text{width}_{m} \\times \\text{height}_{m}\n",
    "   $$\n",
    "\n",
    "\n"
   ]
  },
  {
   "cell_type": "markdown",
   "metadata": {},
   "source": [
    "**2.b**What is the mean area and standard deviation?"
   ]
  },
  {
   "cell_type": "code",
   "execution_count": 8,
   "metadata": {},
   "outputs": [
    {
     "name": "stdout",
     "output_type": "stream",
     "text": [
      "Total solar panels processed: 29625\n",
      "Mean Area: 191.52 square meters\n",
      "Standard Deviation: 630.70 square meters\n",
      "Min Area: 1.06 square meters\n",
      "Max Area: 12177.41 square meters\n"
     ]
    }
   ],
   "source": [
    "import os\n",
    "import numpy as np\n",
    "\n",
    "# Geotransform parameters for Tile 1 (from README)\n",
    "x_pixel_size = 0.31  # meters/pixel\n",
    "y_pixel_size = -0.31  # meters/pixel (negative because of coordinate system)\n",
    "chip_size = 416  # Native resolution chip size\n",
    "\n",
    "# Path to the labels_native folder\n",
    "label_dir = r\"E:\\AISG Assignment 1\\extracted_data\\labels\\labels_native\"\n",
    "\n",
    "# Function to compute area in meters\n",
    "def compute_area(width_norm, height_norm):\n",
    "    width_px = width_norm * chip_size\n",
    "    height_px = height_norm * chip_size\n",
    "    width_m = width_px * x_pixel_size\n",
    "    height_m = height_px * abs(y_pixel_size)\n",
    "    return width_m * height_m\n",
    "\n",
    "# Read all labels and compute areas\n",
    "areas = []\n",
    "for filename in os.listdir(label_dir):\n",
    "    if filename.endswith(\".txt\"):  # Process only text files\n",
    "        file_path = os.path.join(label_dir, filename)\n",
    "        with open(file_path, \"r\") as f:\n",
    "            for line in f:\n",
    "                parts = line.strip().split()\n",
    "                if len(parts) == 5:\n",
    "                    _, _, _, width_norm, height_norm = map(float, parts)\n",
    "                    area = compute_area(width_norm, height_norm)\n",
    "                    areas.append(area)\n",
    "\n",
    "# Convert to numpy array for statistics\n",
    "areas = np.array(areas)\n",
    "\n",
    "# Calculate statistics\n",
    "mean_area = np.mean(areas)\n",
    "std_area = np.std(areas)\n",
    "min_area = np.min(areas)\n",
    "max_area = np.max(areas)\n",
    "\n",
    "# Print results\n",
    "print(f\"Total solar panels processed: {len(areas)}\")\n",
    "print(f\"Mean Area: {mean_area:.2f} square meters\")\n",
    "print(f\"Standard Deviation: {std_area:.2f} square meters\")\n",
    "print(f\"Min Area: {min_area:.2f} square meters\")\n",
    "print(f\"Max Area: {max_area:.2f} square meters\")\n"
   ]
  },
  {
   "cell_type": "code",
   "execution_count": 9,
   "metadata": {},
   "outputs": [
    {
     "name": "stdout",
     "output_type": "stream",
     "text": [
      "Minimum Area: 1.06 square meters found in solarpanels_native_1__x0_8344_y0_8586_dxdy_416.txt at line 14\n",
      "Maximum Area: 12177.41 square meters found in solarpanels_native_3__x0_10942_y0_9325_dxdy_416.txt at line 8\n"
     ]
    }
   ],
   "source": [
    "import os\n",
    "import numpy as np\n",
    "\n",
    "# Geotransform parameters for Tile 1 (from README)\n",
    "x_pixel_size = 0.31  # meters/pixel\n",
    "y_pixel_size = -0.31  # meters/pixel (negative because of coordinate system)\n",
    "chip_size = 416  # Native resolution chip size\n",
    "\n",
    "# Path to the labels_native folder\n",
    "label_dir = r\"E:\\AISG Assignment 1\\extracted_data\\labels\\labels_native\"\n",
    "\n",
    "# Function to compute area in meters\n",
    "def compute_area(width_norm, height_norm):\n",
    "    width_px = width_norm * chip_size\n",
    "    height_px = height_norm * chip_size\n",
    "    width_m = width_px * x_pixel_size\n",
    "    height_m = height_px * abs(y_pixel_size)\n",
    "    return width_m * height_m\n",
    "\n",
    "# Variables to track min and max area\n",
    "min_area = float('inf')\n",
    "max_area = float('-inf')\n",
    "min_instance = None\n",
    "max_instance = None\n",
    "\n",
    "# Read all labels and compute areas\n",
    "for filename in os.listdir(label_dir):\n",
    "    if filename.endswith(\".txt\"):  # Process only text files\n",
    "        file_path = os.path.join(label_dir, filename)\n",
    "        with open(file_path, \"r\") as f:\n",
    "            for line_number, line in enumerate(f, start=1):\n",
    "                parts = line.strip().split()\n",
    "                if len(parts) == 5:\n",
    "                    _, _, _, width_norm, height_norm = map(float, parts)\n",
    "                    area = compute_area(width_norm, height_norm)\n",
    "                    \n",
    "                    # Check for min and max area\n",
    "                    if area < min_area:\n",
    "                        min_area = area\n",
    "                        min_instance = (filename, line_number, area)\n",
    "                    if area > max_area:\n",
    "                        max_area = area\n",
    "                        max_instance = (filename, line_number, area)\n",
    "\n",
    "# Print results\n",
    "print(f\"Minimum Area: {min_area:.2f} square meters found in {min_instance[0]} at line {min_instance[1]}\")\n",
    "print(f\"Maximum Area: {max_area:.2f} square meters found in {max_instance[0]} at line {max_instance[1]}\")\n"
   ]
  },
  {
   "cell_type": "markdown",
   "metadata": {},
   "source": [
    "**2.c**Plot the histogram of areas. What do you observe?"
   ]
  },
  {
   "cell_type": "code",
   "execution_count": 10,
   "metadata": {},
   "outputs": [
    {
     "data": {
      "image/png": "[encoded data removed]",
      "text/plain": [
       "<Figure size 1000x600 with 1 Axes>"
      ]
     },
     "metadata": {},
     "output_type": "display_data"
    }
   ],
   "source": [
    "# Plot histogram of areas\n",
    "import matplotlib.pyplot as plt\n",
    "plt.figure(figsize=(10, 6))\n",
    "plt.hist(areas, bins=50, color='blue', edgecolor='black', alpha=0.7)\n",
    "plt.xlabel(\"Area (square meters)\")\n",
    "plt.ylabel(\"Frequency\")\n",
    "plt.title(\"Histogram of Solar Panel Areas\")\n",
    "plt.grid(axis='y', alpha=0.75)\n",
    "plt.show()"
   ]
  },
  {
   "cell_type": "markdown",
   "metadata": {},
   "source": [
    "# Observations from the Histogram of Solar Panel Areas\n",
    "\n",
    "## 1. Highly Skewed Distribution  \n",
    "- The distribution is **right-skewed** (long tail on the right), meaning that most solar panels have **small areas**, while a few have significantly larger areas.\n",
    "\n",
    "## 2. Majority of Areas are Small  \n",
    "- The highest frequency of solar panels lies in the **low area range** (close to 0), indicating that **most panels are small in size**.  \n",
    "- There are very few instances of large solar panels.\n",
    "\n",
    "## 3. Outliers in the Distribution  \n",
    "- Some solar panels have exceptionally large areas (beyond **6000+ square meters**), suggesting **potential anomalies** or large-scale installations.\n",
    "\n",
    "## 4. Log Scale May Help  \n",
    "- Since the data is **heavily concentrated in smaller values**, a **logarithmic scale on the x-axis** might help in better visualizing the distribution.\n"
   ]
  },
  {
   "cell_type": "code",
   "execution_count": null,
   "metadata": {},
   "outputs": [],
   "source": []
  }
 ],
 "metadata": {
  "kernelspec": {
   "display_name": "base",
   "language": "python",
   "name": "python3"
  },
  "language_info": {
   "codemirror_mode": {
    "name": "ipython",
    "version": 3
   },
   "file_extension": ".py",
   "mimetype": "text/x-python",
   "name": "python",
   "nbconvert_exporter": "python",
   "pygments_lexer": "ipython3",
   "version": "3.11.7"
  }
 },
 "nbformat": 4,
 "nbformat_minor": 2
}
